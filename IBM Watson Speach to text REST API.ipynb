{
 "cells": [
  {
   "cell_type": "markdown",
   "metadata": {},
   "source": [
    "# IBM Watson \"Speach to text\" REST API"
   ]
  },
  {
   "cell_type": "code",
   "execution_count": 22,
   "metadata": {},
   "outputs": [
    {
     "name": "stdout",
     "output_type": "stream",
     "text": [
      "Requirement already up-to-date: ibm-watson>=4.2.1 in c:\\users\\nobody\\anaconda3\\lib\\site-packages (4.2.1)\n",
      "Requirement already satisfied, skipping upgrade: ibm-cloud-sdk-core==1.5.1 in c:\\users\\nobody\\anaconda3\\lib\\site-packages (from ibm-watson>=4.2.1) (1.5.1)\n",
      "Requirement already satisfied, skipping upgrade: websocket-client==0.48.0 in c:\\users\\nobody\\anaconda3\\lib\\site-packages (from ibm-watson>=4.2.1) (0.48.0)\n",
      "Requirement already satisfied, skipping upgrade: requests<3.0,>=2.0 in c:\\users\\nobody\\anaconda3\\lib\\site-packages (from ibm-watson>=4.2.1) (2.22.0)\n",
      "Requirement already satisfied, skipping upgrade: python-dateutil>=2.5.3 in c:\\users\\nobody\\anaconda3\\lib\\site-packages (from ibm-watson>=4.2.1) (2.8.0)\n",
      "Requirement already satisfied, skipping upgrade: PyJWT>=1.7.1 in c:\\users\\nobody\\anaconda3\\lib\\site-packages (from ibm-cloud-sdk-core==1.5.1->ibm-watson>=4.2.1) (1.7.1)\n",
      "Requirement already satisfied, skipping upgrade: six in c:\\users\\nobody\\anaconda3\\lib\\site-packages (from websocket-client==0.48.0->ibm-watson>=4.2.1) (1.13.0)\n",
      "Requirement already satisfied, skipping upgrade: chardet<3.1.0,>=3.0.2 in c:\\users\\nobody\\anaconda3\\lib\\site-packages (from requests<3.0,>=2.0->ibm-watson>=4.2.1) (3.0.4)\n",
      "Requirement already satisfied, skipping upgrade: urllib3!=1.25.0,!=1.25.1,<1.26,>=1.21.1 in c:\\users\\nobody\\anaconda3\\lib\\site-packages (from requests<3.0,>=2.0->ibm-watson>=4.2.1) (1.25.7)\n",
      "Requirement already satisfied, skipping upgrade: idna<2.9,>=2.5 in c:\\users\\nobody\\anaconda3\\lib\\site-packages (from requests<3.0,>=2.0->ibm-watson>=4.2.1) (2.8)\n",
      "Requirement already satisfied, skipping upgrade: certifi>=2017.4.17 in c:\\users\\nobody\\anaconda3\\lib\\site-packages (from requests<3.0,>=2.0->ibm-watson>=4.2.1) (2019.11.28)\n",
      "{\n",
      "  \"rate\": 16000,\n",
      "  \"name\": \"es-ES_BroadbandModel\",\n",
      "  \"language\": \"es-ES\",\n",
      "  \"url\": \"https://api.us-south.speech-to-text.watson.cloud.ibm.com/instances/b6d7e604-246a-4a2c-a4b9-b802193545bd/v1/models/es-ES_BroadbandModel\",\n",
      "  \"supported_features\": {\n",
      "    \"custom_language_model\": true,\n",
      "    \"speaker_labels\": true\n",
      "  },\n",
      "  \"description\": \"Castilian Spanish broadband model.\"\n",
      "}\n"
     ]
    }
   ],
   "source": [
    "!pip install --upgrade \"ibm-watson>=4.2.1\"\n",
    "\n",
    "from pandas.io.json import json_normalize\n",
    "import json\n",
    "from ibm_watson import SpeechToTextV1\n",
    "from ibm_cloud_sdk_core.authenticators import IAMAuthenticator\n",
    "\n",
    "authenticator = IAMAuthenticator(\"fJAOX0_u7iBKeg_yHO5m54NNfuI22pyXj1oylL15ThJB\")\n",
    "speech_to_text = SpeechToTextV1(\n",
    "    authenticator=authenticator\n",
    ")\n",
    "\n",
    "speech_to_text.set_service_url(\"https://api.us-south.speech-to-text.watson.cloud.ibm.com/instances/b6d7e604-246a-4a2c-a4b9-b802193545bd\")\n",
    "\n",
    "speech_model = speech_to_text.get_model(\"es-ES_BroadbandModel\").get_result()\n",
    "print(json.dumps(speech_model, indent=2))"
   ]
  },
  {
   "cell_type": "markdown",
   "metadata": {},
   "source": [
    "## I used the \"Castilian Spanish broadband model\"  and an audio"
   ]
  },
  {
   "cell_type": "code",
   "execution_count": 18,
   "metadata": {},
   "outputs": [
    {
     "data": {
      "text/plain": [
       "'C:\\\\Users\\\\Nobody\\\\Downloads\\\\Recor.mp3'"
      ]
     },
     "execution_count": 18,
     "metadata": {},
     "output_type": "execute_result"
    }
   ],
   "source": [
    "filename = 'C:\\\\Users\\\\Nobody\\\\Downloads\\\\Recor.mp3'\n",
    "filename"
   ]
  },
  {
   "cell_type": "code",
   "execution_count": 27,
   "metadata": {},
   "outputs": [],
   "source": [
    "with open(filename, mode=\"rb\")  as wav:\n",
    "    response = speech_to_text.recognize(audio=wav, content_type='audio/mp3', model = \"es-ES_BroadbandModel\", keywords_threshold=0.5, keywords=['preparándole', 'fiesta'])"
   ]
  },
  {
   "cell_type": "code",
   "execution_count": 28,
   "metadata": {},
   "outputs": [
    {
     "data": {
      "text/html": [
       "<div>\n",
       "<style scoped>\n",
       "    .dataframe tbody tr th:only-of-type {\n",
       "        vertical-align: middle;\n",
       "    }\n",
       "\n",
       "    .dataframe tbody tr th {\n",
       "        vertical-align: top;\n",
       "    }\n",
       "\n",
       "    .dataframe thead th {\n",
       "        text-align: right;\n",
       "    }\n",
       "</style>\n",
       "<table border=\"1\" class=\"dataframe\">\n",
       "  <thead>\n",
       "    <tr style=\"text-align: right;\">\n",
       "      <th></th>\n",
       "      <th>confidence</th>\n",
       "      <th>transcript</th>\n",
       "    </tr>\n",
       "  </thead>\n",
       "  <tbody>\n",
       "    <tr>\n",
       "      <th>0</th>\n",
       "      <td>0.84</td>\n",
       "      <td>estamos aquí con mi hijo preparándoles susie e...</td>\n",
       "    </tr>\n",
       "  </tbody>\n",
       "</table>\n",
       "</div>"
      ],
      "text/plain": [
       "   confidence                                         transcript\n",
       "0        0.84  estamos aquí con mi hijo preparándoles susie e..."
      ]
     },
     "execution_count": 28,
     "metadata": {},
     "output_type": "execute_result"
    }
   ],
   "source": [
    "json_normalize(response.result['results'],\"alternatives\")"
   ]
  },
  {
   "cell_type": "markdown",
   "metadata": {},
   "source": [
    "#### It was a short audio in spanish, for english text we could just erase the \"model\" parameter"
   ]
  },
  {
   "cell_type": "code",
   "execution_count": 30,
   "metadata": {},
   "outputs": [
    {
     "data": {
      "text/plain": [
       "{'results': [{'keywords_result': {},\n",
       "   'alternatives': [{'confidence': 0.84,\n",
       "     'transcript': 'estamos aquí con mi hijo preparándoles susie está de mayoría de gaga absoluta en todo el mundo '}],\n",
       "   'final': True}],\n",
       " 'result_index': 0}"
      ]
     },
     "execution_count": 30,
     "metadata": {},
     "output_type": "execute_result"
    }
   ],
   "source": [
    "response.result"
   ]
  }
 ],
 "metadata": {
  "kernelspec": {
   "display_name": "Python 3",
   "language": "python",
   "name": "python3"
  },
  "language_info": {
   "codemirror_mode": {
    "name": "ipython",
    "version": 3
   },
   "file_extension": ".py",
   "mimetype": "text/x-python",
   "name": "python",
   "nbconvert_exporter": "python",
   "pygments_lexer": "ipython3",
   "version": "3.7.3"
  }
 },
 "nbformat": 4,
 "nbformat_minor": 2
}
